{
 "cells": [
  {
   "cell_type": "markdown",
   "id": "6d37ba57",
   "metadata": {},
   "source": [
    "# Assignment-1"
   ]
  },
  {
   "cell_type": "markdown",
   "id": "a20b37b2",
   "metadata": {},
   "source": [
    "1)"
   ]
  },
  {
   "cell_type": "code",
   "execution_count": 22,
   "id": "d44344bc",
   "metadata": {},
   "outputs": [
    {
     "name": "stdout",
     "output_type": "stream",
     "text": [
      "enter number of rows:5\n",
      "5 5 5 5 5 \n",
      "5 5 5 5 \n",
      "5 5 5 \n",
      "5 5 \n",
      "5 \n",
      "\n"
     ]
    }
   ],
   "source": [
    "n = int(input(\"enter number of rows:\"))\n",
    "for i in range(0,n+1):\n",
    "  for j in range(0,n-i):\n",
    "     print('5',end=' ')\n",
    "  print()"
   ]
  },
  {
   "cell_type": "markdown",
   "id": "f5b493d0",
   "metadata": {},
   "source": [
    "2)"
   ]
  },
  {
   "cell_type": "code",
   "execution_count": 3,
   "id": "c7b8b708",
   "metadata": {},
   "outputs": [
    {
     "name": "stdout",
     "output_type": "stream",
     "text": [
      "enter number of rows:5\n",
      "0 1 2 3 4 5 \n",
      "0 1 2 3 4 \n",
      "0 1 2 3 \n",
      "0 1 2 \n",
      "0 1 \n"
     ]
    }
   ],
   "source": [
    "n = int(input(\"enter number of rows:\"))\n",
    "for i in range(n,0,-1):\n",
    "  for j in range(0,i+1):\n",
    "    print(j,end=' ')\n",
    "  print()"
   ]
  },
  {
   "cell_type": "markdown",
   "id": "cb71105b",
   "metadata": {},
   "source": [
    "3)"
   ]
  },
  {
   "cell_type": "code",
   "execution_count": 4,
   "id": "2fb39b4a",
   "metadata": {},
   "outputs": [
    {
     "name": "stdout",
     "output_type": "stream",
     "text": [
      "1 \n",
      "3 3 \n",
      "5 5 5 \n",
      "7 7 7 7 \n",
      "9 9 9 9 9 \n"
     ]
    }
   ],
   "source": [
    "rows = 5 \n",
    "i = 1\n",
    "while i <= rows:\n",
    "  j =1\n",
    "  while j<= i:\n",
    "    print((i*2-1),end=' ')\n",
    "    j = j+1\n",
    "  i = i + 1\n",
    "  print()"
   ]
  },
  {
   "cell_type": "markdown",
   "id": "d5319c02",
   "metadata": {},
   "source": [
    "4)"
   ]
  },
  {
   "cell_type": "code",
   "execution_count": 5,
   "id": "2537c91f",
   "metadata": {},
   "outputs": [
    {
     "name": "stdout",
     "output_type": "stream",
     "text": [
      "1 \n",
      "2 1 \n",
      "3 2 1 \n",
      "4 3 2 1 \n",
      "5 4 3 2 1 \n"
     ]
    }
   ],
   "source": [
    "i = 6\n",
    "for i in range(1,i):\n",
    "  for j in range(i,0,-1):\n",
    "    print(j,end=' ')\n",
    "  print()"
   ]
  },
  {
   "cell_type": "markdown",
   "id": "19f62357",
   "metadata": {},
   "source": [
    "5)"
   ]
  },
  {
   "cell_type": "code",
   "execution_count": 21,
   "id": "9c84049b",
   "metadata": {},
   "outputs": [
    {
     "name": "stdout",
     "output_type": "stream",
     "text": [
      "1 \n",
      "3 2 \n",
      "6 5 4 \n",
      "10 9 8 7 \n"
     ]
    }
   ],
   "source": [
    "a = 1\n",
    "b = 2\n",
    "int_number = b\n",
    "for i in range(2,6):\n",
    "  for j in range(a,b):\n",
    "    int_number -= 1\n",
    "    print(int_number ,end=\" \")\n",
    "  print()\n",
    "  a = b\n",
    "  b += i\n",
    "  int_number = b"
   ]
  },
  {
   "cell_type": "markdown",
   "id": "201c1f20",
   "metadata": {},
   "source": [
    "6)"
   ]
  },
  {
   "cell_type": "code",
   "execution_count": 7,
   "id": "269856d5",
   "metadata": {},
   "outputs": [
    {
     "name": "stdout",
     "output_type": "stream",
     "text": [
      "1  \n",
      "1  1  \n",
      "1  2  1  \n",
      "1  3  3  1  \n",
      "1  4  6  4  1  \n",
      "1  5  10  10  5  1  \n",
      "1  6  15  20  15  6  1  \n"
     ]
    }
   ],
   "source": [
    "def printPascal(n) :\n",
    "    for i in range(0, n) :\n",
    "        for j in range(0, i + 1) :\n",
    "            print(function(i, j),\" \", end = \"\")\n",
    "        print()\n",
    "     \n",
    " \n",
    "def function(n, k) :\n",
    "    res = 1\n",
    "    if (k > n - k) :\n",
    "        k = n - k\n",
    "    for i in range(0 , k) :\n",
    "        res = res * (n - i)\n",
    "        res = res // (i + 1)\n",
    "     \n",
    "    return res\n",
    "\n",
    "n = 7\n",
    "printPascal(n)"
   ]
  },
  {
   "cell_type": "markdown",
   "id": "c8a1761d",
   "metadata": {},
   "source": [
    "7)"
   ]
  },
  {
   "cell_type": "code",
   "execution_count": 8,
   "id": "4969bdc6",
   "metadata": {},
   "outputs": [
    {
     "name": "stdout",
     "output_type": "stream",
     "text": [
      "Enter the number of rows:5\n",
      "1 2 3 4 5 \n",
      "2 2 3 4 5 \n",
      "3 3 3 4 5 \n",
      "4 4 4 4 5 \n",
      "5 5 5 5 5 \n"
     ]
    }
   ],
   "source": [
    "n = int(input(\"Enter the number of rows:\"))\n",
    "for i in range(1, n+1):\n",
    "  for j in range(1, n+1):\n",
    "    if j<=i:\n",
    "      print(i,end=' ')\n",
    "    else:\n",
    "      print(j,end=\" \")\n",
    "  print()"
   ]
  },
  {
   "cell_type": "markdown",
   "id": "8702ca9d",
   "metadata": {},
   "source": [
    "8)"
   ]
  },
  {
   "cell_type": "code",
   "execution_count": 9,
   "id": "c10a6cf4",
   "metadata": {},
   "outputs": [
    {
     "name": "stdout",
     "output_type": "stream",
     "text": [
      "Enter the number of rows:8\n",
      "1 \n",
      "2 4 \n",
      "3 6 9 \n",
      "4 8 12 16 \n",
      "5 10 15 20 25 \n",
      "6 12 18 24 30 36 \n",
      "7 14 21 28 35 42 49 \n",
      "8 16 24 32 40 48 56 64 \n"
     ]
    }
   ],
   "source": [
    "n = int(input(\"Enter the number of rows:\"))\n",
    "for i in range(1, n+1):\n",
    "  for j in range(1, i+1):\n",
    "    print(i*j, end=' ')\n",
    "  print()"
   ]
  },
  {
   "cell_type": "markdown",
   "id": "4a265bc5",
   "metadata": {},
   "source": [
    "9)"
   ]
  },
  {
   "cell_type": "code",
   "execution_count": 10,
   "id": "d8b54eca",
   "metadata": {},
   "outputs": [
    {
     "name": "stdout",
     "output_type": "stream",
     "text": [
      "        * * * * * *  \n",
      "         * * * * *  \n",
      "          * * * *  \n",
      "           * * *  \n",
      "            * *  \n",
      "             *  \n"
     ]
    }
   ],
   "source": [
    "n = 5\n",
    "k = 2*n-2\n",
    "for i in range(n, -1, -1):\n",
    "    for j in range(k, 0, -1):\n",
    "        print(end=\" \")\n",
    "    k = k + 1\n",
    "    for j in range(0, i + 1):\n",
    "        print(\"*\", end=\" \")\n",
    "    print(\" \")"
   ]
  },
  {
   "cell_type": "markdown",
   "id": "307b8722",
   "metadata": {},
   "source": [
    "10)"
   ]
  },
  {
   "cell_type": "code",
   "execution_count": 11,
   "id": "c34f3cb0",
   "metadata": {},
   "outputs": [
    {
     "name": "stdout",
     "output_type": "stream",
     "text": [
      "Enter the number of rows:8\n",
      "              *  \n",
      "             * *  \n",
      "            * * *  \n",
      "           * * * *  \n",
      "          * * * * *  \n",
      "         * * * * * *  \n",
      "        * * * * * * *  \n",
      "       * * * * * * * *  \n"
     ]
    }
   ],
   "source": [
    "n = int(input(\"Enter the number of rows:\"))\n",
    "m = 2*n-2\n",
    "for i in range(0,n):\n",
    "    for j in range(0,m):\n",
    "        print(end=\" \")\n",
    "    m = m-1\n",
    "    for j in range(0, i + 1):\n",
    "        print(\"*\", end=\" \")\n",
    "    print(\" \")"
   ]
  },
  {
   "cell_type": "markdown",
   "id": "4736c9d6",
   "metadata": {},
   "source": [
    "11)"
   ]
  },
  {
   "cell_type": "code",
   "execution_count": 12,
   "id": "53a37889",
   "metadata": {},
   "outputs": [
    {
     "name": "stdout",
     "output_type": "stream",
     "text": [
      "Enter the number of rows:7\n",
      "*  \n",
      "* *  \n",
      "* * *  \n",
      "* * * *  \n",
      "* * * * *  \n",
      "* * * * * *  \n",
      "* * * * * * *  \n",
      "                 \n",
      "* * * * * * *  \n",
      "* * * * * *  \n",
      "* * * * *  \n",
      "* * * *  \n",
      "* * *  \n",
      "* *  \n",
      "*  \n",
      " \n"
     ]
    }
   ],
   "source": [
    "n = int(input(\"Enter the number of rows:\"))\n",
    "\n",
    "#1st pattern\n",
    "\n",
    "for i in range(0,n):\n",
    "  for j in range(0,i+1):\n",
    "    print(\"*\",end=\" \")\n",
    "  print(\" \")\n",
    "\n",
    "print(\"                 \")\n",
    "#2nd pattern\n",
    "for i in range(n+1,0,-1):\n",
    "  for j in range(0,i-1):\n",
    "    print(\"*\",end=\" \")\n",
    "  print(\" \")"
   ]
  },
  {
   "cell_type": "markdown",
   "id": "320385d4",
   "metadata": {},
   "source": [
    "12)"
   ]
  },
  {
   "cell_type": "code",
   "execution_count": 20,
   "id": "1f4f170e",
   "metadata": {},
   "outputs": [
    {
     "name": "stdout",
     "output_type": "stream",
     "text": [
      "* \n",
      "* * \n",
      "* * * \n",
      "* * * * \n",
      "* * * * * \n",
      "* * * * * * \n",
      "* * * * * \n",
      "* * * * \n",
      "* * * \n",
      "* * \n"
     ]
    }
   ],
   "source": [
    "def pattern(n):\n",
    "  for i in range(0,n):\n",
    "    for j in range(0,i+1):\n",
    "      print(\"*\",end=\" \")\n",
    "    print()\n",
    "  for i in range(n, 0, -1):\n",
    "    for j in range(0,i+1):\n",
    "      print(\"*\",end=\" \")\n",
    "    print() \n",
    "pattern(5)"
   ]
  },
  {
   "cell_type": "markdown",
   "id": "40c999c6",
   "metadata": {},
   "source": [
    "13)"
   ]
  },
  {
   "cell_type": "code",
   "execution_count": 17,
   "id": "3ebe9d1f",
   "metadata": {},
   "outputs": [
    {
     "name": "stdout",
     "output_type": "stream",
     "text": [
      "        * \n",
      "      * * \n",
      "    * * * \n",
      "  * * * * \n",
      "* * * * * \n",
      "  * * * * \n",
      "    * * * \n",
      "      * * \n",
      "        * \n"
     ]
    }
   ],
   "source": [
    "def pattern(n):\n",
    "  k = 2*n-2\n",
    "  for i in range(0,n-1):\n",
    "    for j in range(0,k):\n",
    "      print(end=\" \")\n",
    "    k = k-2\n",
    "    for j in range(0,i+1):\n",
    "      print(\"*\",end=\" \")\n",
    "    print()  \n",
    "  k = -1\n",
    "  for i in range(n-1,-1,-1):\n",
    "    for j in range(k,-1,-1):\n",
    "      print(end=\" \")\n",
    "    k = k+2 \n",
    "    for j in range(0,i+1):\n",
    "      print(\"*\",end=\" \")\n",
    "    print()\n",
    "    \n",
    "pattern(5)"
   ]
  },
  {
   "cell_type": "markdown",
   "id": "0d324d0f",
   "metadata": {},
   "source": [
    "14)"
   ]
  },
  {
   "cell_type": "code",
   "execution_count": 18,
   "id": "dfcbf7a4",
   "metadata": {},
   "outputs": [
    {
     "name": "stdout",
     "output_type": "stream",
     "text": [
      "* * * * * * * \n",
      " * * * * * * \n",
      "  * * * * * \n",
      "   * * * * \n",
      "    * * * \n",
      "     * * \n",
      "      * \n",
      "     * * \n",
      "    * * * \n",
      "   * * * * \n",
      "  * * * * * \n",
      " * * * * * * \n",
      "* * * * * * * \n"
     ]
    }
   ],
   "source": [
    "def pattern(n):\n",
    " \n",
    "    # for loop for printing upper half\n",
    "    for i in range(1, n + 1):\n",
    "        for k in range(1, i):\n",
    "            print(\" \", end = \"\")\n",
    "        for j in range(i, n + 1):\n",
    "            print(\"*\", end = \" \")\n",
    "        print()\n",
    "     \n",
    "    # for loop for printing lower half\n",
    "    for i in range(n - 1, 0, -1):\n",
    "        for k in range(1, i):\n",
    "            print(\" \", end = \"\")\n",
    "        for j in range(i, n + 1):\n",
    "            print(\"*\", end = \" \")\n",
    "        print()\n",
    "     \n",
    " \n",
    "pattern(7)"
   ]
  },
  {
   "cell_type": "markdown",
   "id": "ccf87040",
   "metadata": {},
   "source": [
    "15)"
   ]
  },
  {
   "cell_type": "code",
   "execution_count": 19,
   "id": "446db732",
   "metadata": {},
   "outputs": [
    {
     "name": "stdout",
     "output_type": "stream",
     "text": [
      "enter number of rows :15\n",
      "***************\n",
      "******__******\n",
      "*****____*****\n",
      "****______****\n",
      "***________***\n",
      "**__________**\n",
      "*____________*\n"
     ]
    }
   ],
   "source": [
    "n = int(input(\"enter number of rows :\"))\n",
    "print(\"*\"*n, end=\"\\n\")\n",
    "i = (n // 2) -1\n",
    "j = 2\n",
    "while i !=0:\n",
    "  while j <=(n -2):\n",
    "    print(\"*\" * i,end =\"\")\n",
    "    print(\"_\" * j,end =\"\")\n",
    "    print(\"*\" * i,end =\"\\n\")\n",
    "    i =i -1\n",
    "    j = j +2"
   ]
  },
  {
   "cell_type": "code",
   "execution_count": null,
   "id": "dbbc1549",
   "metadata": {},
   "outputs": [],
   "source": []
  }
 ],
 "metadata": {
  "kernelspec": {
   "display_name": "Python 3",
   "language": "python",
   "name": "python3"
  },
  "language_info": {
   "codemirror_mode": {
    "name": "ipython",
    "version": 3
   },
   "file_extension": ".py",
   "mimetype": "text/x-python",
   "name": "python",
   "nbconvert_exporter": "python",
   "pygments_lexer": "ipython3",
   "version": "3.7.3"
  }
 },
 "nbformat": 4,
 "nbformat_minor": 5
}
